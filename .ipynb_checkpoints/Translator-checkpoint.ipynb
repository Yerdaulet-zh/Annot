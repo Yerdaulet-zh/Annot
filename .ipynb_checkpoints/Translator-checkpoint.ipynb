{
 "cells": [
  {
   "cell_type": "code",
   "execution_count": 1,
   "id": "72749121",
   "metadata": {},
   "outputs": [],
   "source": [
    "import pandas as pd\n",
    "import json, time, tqdm, os\n",
    "from datasets import load_dataset\n",
    "from googletrans import Translator\n",
    "\n",
    "\n",
    "start, end = 3000, 5000\n",
    "squad = load_dataset(\"squad\", split=f\"train[{start}:{end}]\")\n",
    "\n",
    "data_dict = squad.to_dict()\n",
    "df = pd.DataFrame.from_dict(data_dict)"
   ]
  },
  {
   "cell_type": "code",
   "execution_count": 12,
   "id": "b7fe1509",
   "metadata": {},
   "outputs": [],
   "source": [
    "ids = data_dict['id']\n",
    "titles = data_dict['title']\n",
    "contexts = data_dict['context']\n",
    "questions = data_dict['question']\n",
    "answers = data_dict['answers']"
   ]
  },
  {
   "cell_type": "code",
   "execution_count": 13,
   "id": "4510347d",
   "metadata": {},
   "outputs": [],
   "source": [
    "translator = Translator()\n",
    "\n",
    "def preprocess(translated):\n",
    "    translated = translated.replace(\"\\'s\", \"'s\")\n",
    "    translated = translated.replace('\"', \"'\")\n",
    "    translated = translated.replace(\")\", \") \")\n",
    "    translated = translated.replace(\"(\", \" (\")\n",
    "    translated = translated.replace(\".\", \". \")\n",
    "    translated = translated.replace(\",\", \", \")\n",
    "    translated = translated.replace(\"  \", \" \")\n",
    "    translated = translated.replace(\"  \", \" \")\n",
    "    return translated.strip()"
   ]
  },
  {
   "cell_type": "code",
   "execution_count": null,
   "id": "0d3ed3a5",
   "metadata": {
    "scrolled": true
   },
   "outputs": [
    {
     "name": "stderr",
     "output_type": "stream",
     "text": [
      "  2%|█▊                                                                              | 22/1000 [00:09<05:54,  2.76it/s]"
     ]
    }
   ],
   "source": [
    "Contexts = []\n",
    "prev_context = \"\"\n",
    "\n",
    "retry = 0\n",
    "\n",
    "for context in tqdm.tqdm(contexts):\n",
    "    if context != prev_context:\n",
    "        prev_context = context\n",
    "        context = preprocess(context)\n",
    "        while retry != 5:\n",
    "            try:\n",
    "                translated = translator.translate(context, 'kk').text\n",
    "                Contexts.append(translated)\n",
    "                break\n",
    "            except Exception as e:\n",
    "                retry += 1\n",
    "                print(e)\n",
    "                translated = \"pass\"\n",
    "        else:\n",
    "            retry = 0\n",
    "            Contexts.append(translated)\n",
    "    else:\n",
    "        Contexts.append(translated)"
   ]
  },
  {
   "cell_type": "code",
   "execution_count": null,
   "id": "c145bc53",
   "metadata": {
    "scrolled": true
   },
   "outputs": [],
   "source": [
    "Questions = []\n",
    "prev_context = \"\"\n",
    "\n",
    "retry = 0\n",
    "\n",
    "for context in tqdm.tqdm(questions):\n",
    "    if context != prev_context:\n",
    "        prev_context = context\n",
    "        context = preprocess(context)\n",
    "        while retry != 5:\n",
    "            try:\n",
    "                translated = translator.translate(context, 'kk').text\n",
    "                Questions.append(translated)\n",
    "                break\n",
    "            except Exception as e:\n",
    "                retry += 1\n",
    "                print(e)\n",
    "                translated = \"pass\"\n",
    "        else:\n",
    "            retry = 0\n",
    "            Questions.append(translated)\n",
    "    else:\n",
    "        Questions.append(translated)"
   ]
  },
  {
   "cell_type": "code",
   "execution_count": null,
   "id": "e8f6d1bd",
   "metadata": {
    "scrolled": true
   },
   "outputs": [],
   "source": [
    "Answers = []\n",
    "prev_context = \"\"\n",
    "\n",
    "retry = 0\n",
    "\n",
    "for context in tqdm.tqdm(answers):\n",
    "    context = context['text'][0]\n",
    "    if context != prev_context:\n",
    "        prev_context = context\n",
    "        context = preprocess(context)\n",
    "        while retry != 5:\n",
    "            try:\n",
    "                translated = translator.translate(context, 'kk').text\n",
    "                Answers.append(translated)\n",
    "                break\n",
    "            except Exception as e:\n",
    "                retry += 1\n",
    "                print(e)\n",
    "                translated = \"pass\"\n",
    "        else:\n",
    "            retry = 0\n",
    "            Answers.append(translated)\n",
    "    else:\n",
    "        Answers.append(translated)"
   ]
  },
  {
   "cell_type": "code",
   "execution_count": null,
   "id": "5d41023b",
   "metadata": {},
   "outputs": [],
   "source": [
    "pd.DataFrame({\n",
    "    \"context\": Contexts,\n",
    "    \"question\": Questions,\n",
    "    \"answer\": Answers\n",
    "}).to_csv(f\"translated_{start}_{end}.csv\", index=False)"
   ]
  },
  {
   "cell_type": "code",
   "execution_count": null,
   "id": "891c29e2",
   "metadata": {},
   "outputs": [],
   "source": [
    "os.system(\"shutdown /s /t 1\") # 1 after seconds"
   ]
  },
  {
   "cell_type": "markdown",
   "id": "3403315a",
   "metadata": {},
   "source": [
    "# Пожалуйста, не выключайте компьютер!"
   ]
  },
  {
   "cell_type": "markdown",
   "id": "29829d25",
   "metadata": {},
   "source": [
    "# Компьютер автоматически выключается после завершения вычисления "
   ]
  },
  {
   "cell_type": "markdown",
   "id": "7cb25676",
   "metadata": {},
   "source": [
    "# Это очень важно для работы над нашим проектом в университете"
   ]
  },
  {
   "cell_type": "markdown",
   "id": "b3b9e6b1",
   "metadata": {},
   "source": [
    "### Если есть вопрсы звоните: 8-700-234-90-89 Ердаулет"
   ]
  },
  {
   "cell_type": "code",
   "execution_count": null,
   "id": "564af940",
   "metadata": {},
   "outputs": [],
   "source": []
  }
 ],
 "metadata": {
  "kernelspec": {
   "display_name": "Python 3 (ipykernel)",
   "language": "python",
   "name": "python3"
  },
  "language_info": {
   "codemirror_mode": {
    "name": "ipython",
    "version": 3
   },
   "file_extension": ".py",
   "mimetype": "text/x-python",
   "name": "python",
   "nbconvert_exporter": "python",
   "pygments_lexer": "ipython3",
   "version": "3.11.4"
  }
 },
 "nbformat": 4,
 "nbformat_minor": 5
}
