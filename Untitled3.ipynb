{
 "cells": [
  {
   "cell_type": "code",
   "execution_count": 5,
   "id": "085c8528",
   "metadata": {},
   "outputs": [],
   "source": [
    "import re\n",
    "import pandas as pd"
   ]
  },
  {
   "cell_type": "code",
   "execution_count": 6,
   "id": "c3036c01",
   "metadata": {},
   "outputs": [],
   "source": [
    "df = pd.read_csv(\"translated_3000_5000.csv\")"
   ]
  },
  {
   "cell_type": "code",
   "execution_count": 7,
   "id": "41444bce",
   "metadata": {},
   "outputs": [],
   "source": [
    "start_positions, end_positions = [], []\n",
    "count = 0\n",
    "for i in range(len(df)):\n",
    "    context = df['context'][i]\n",
    "    answer = df['answer'][i]\n",
    "    try:\n",
    "        match = re.search(re.escape(answer), context)\n",
    "        start = match.start()\n",
    "        end = start + len(answer)\n",
    "        count += 1\n",
    "    except Exception as e:\n",
    "        start = \"pass\"\n",
    "        end = \"pass\"\n",
    "    start_positions.append(start)\n",
    "    end_positions.append(end)"
   ]
  },
  {
   "cell_type": "code",
   "execution_count": 8,
   "id": "3b251fca",
   "metadata": {},
   "outputs": [
    {
     "data": {
      "text/plain": [
       "773"
      ]
     },
     "execution_count": 8,
     "metadata": {},
     "output_type": "execute_result"
    }
   ],
   "source": [
    "count"
   ]
  },
  {
   "cell_type": "code",
   "execution_count": 9,
   "id": "ff31e8aa",
   "metadata": {},
   "outputs": [],
   "source": [
    "df['start_positions'] = start_positions\n",
    "df['end_positions'] = end_positions"
   ]
  },
  {
   "cell_type": "code",
   "execution_count": 13,
   "id": "c57ba89a",
   "metadata": {},
   "outputs": [],
   "source": [
    "# df.to_csv(\"translated_3000_5000.csv\", index=False)"
   ]
  },
  {
   "cell_type": "code",
   "execution_count": null,
   "id": "38ee474a",
   "metadata": {},
   "outputs": [],
   "source": []
  },
  {
   "cell_type": "code",
   "execution_count": 14,
   "id": "ef9e25c3",
   "metadata": {},
   "outputs": [],
   "source": [
    "# pd.read_csv(\"translated_1000_2000.csv\")"
   ]
  },
  {
   "cell_type": "code",
   "execution_count": null,
   "id": "f8f458c3",
   "metadata": {},
   "outputs": [],
   "source": []
  }
 ],
 "metadata": {
  "kernelspec": {
   "display_name": "Python 3 (ipykernel)",
   "language": "python",
   "name": "python3"
  },
  "language_info": {
   "codemirror_mode": {
    "name": "ipython",
    "version": 3
   },
   "file_extension": ".py",
   "mimetype": "text/x-python",
   "name": "python",
   "nbconvert_exporter": "python",
   "pygments_lexer": "ipython3",
   "version": "3.11.4"
  }
 },
 "nbformat": 4,
 "nbformat_minor": 5
}
